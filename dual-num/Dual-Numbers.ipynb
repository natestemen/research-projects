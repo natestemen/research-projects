{
 "cells": [
  {
   "cell_type": "code",
   "execution_count": 5,
   "metadata": {
    "collapsed": true
   },
   "outputs": [],
   "source": [
    "from sympy import symbols"
   ]
  },
  {
   "cell_type": "code",
   "execution_count": 15,
   "metadata": {},
   "outputs": [],
   "source": [
    "x = symbols('x')"
   ]
  },
  {
   "cell_type": "code",
   "execution_count": null,
   "metadata": {
    "collapsed": true
   },
   "outputs": [],
   "source": []
  },
  {
   "cell_type": "code",
   "execution_count": 65,
   "metadata": {},
   "outputs": [],
   "source": [
    "class DualNum:\n",
    "    def __init__(self, real, dual):\n",
    "        self.real = real\n",
    "        self.dual = dual\n",
    "    def __repr__(self):\n",
    "        expr = ''\n",
    "        if self.real != 0:\n",
    "            expr += str(self.real)\n",
    "        if self.dual != 0:\n",
    "            if self.dual < 0:\n",
    "                expr += ' - ' + str(abs(self.dual)) + 'e'\n",
    "            else:\n",
    "                expr += ' + ' + str(self.dual) + 'e'\n",
    "        return expr\n",
    "    def __add__(self, other):\n",
    "        return DualNum(self.real + other.real, self.dual + other.dual)\n",
    "    def __sub__(self, other):\n",
    "        return DualNum(self.real - other.real, self.dual - other.dual)\n",
    "    def __mul__(self, other):\n",
    "        return DualNum(self.real*other.real,\n",
    "                       self.real*other.dual + self.dual*other.real)\n",
    "    def __truediv__(self, other):\n",
    "        if other.real != 0:\n",
    "            return DualNum(\n",
    "                self.real/other.real,\n",
    "                (self.dual*other.real - self.real*other.dual)/other.real**2)\n",
    "        else:\n",
    "            if self.real != 0:\n",
    "                return DualNum(self.dual/other.dual, symbols('y'))\n",
    "            else:\n",
    "                raise ValueError('you cant do that dawg')\n",
    "    "
   ]
  },
  {
   "cell_type": "code",
   "execution_count": 73,
   "metadata": {
    "collapsed": true
   },
   "outputs": [],
   "source": [
    "a = DualNum(1,1)\n",
    "b = DualNum(2,2)"
   ]
  },
  {
   "cell_type": "code",
   "execution_count": 74,
   "metadata": {},
   "outputs": [
    {
     "data": {
      "text/plain": [
       "0.5"
      ]
     },
     "execution_count": 74,
     "metadata": {},
     "output_type": "execute_result"
    }
   ],
   "source": [
    "a / b"
   ]
  },
  {
   "cell_type": "code",
   "execution_count": null,
   "metadata": {
    "collapsed": true
   },
   "outputs": [],
   "source": []
  }
 ],
 "metadata": {
  "kernelspec": {
   "display_name": "Python 3",
   "language": "python",
   "name": "python3"
  },
  "language_info": {
   "codemirror_mode": {
    "name": "ipython",
    "version": 3
   },
   "file_extension": ".py",
   "mimetype": "text/x-python",
   "name": "python",
   "nbconvert_exporter": "python",
   "pygments_lexer": "ipython3",
   "version": "3.6.1"
  }
 },
 "nbformat": 4,
 "nbformat_minor": 2
}

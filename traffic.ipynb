{
 "cells": [
  {
   "cell_type": "code",
   "execution_count": 18,
   "metadata": {
    "collapsed": true
   },
   "outputs": [],
   "source": [
    "import random"
   ]
  },
  {
   "cell_type": "code",
   "execution_count": 7,
   "metadata": {
    "collapsed": true
   },
   "outputs": [],
   "source": [
    "class Car:\n",
    "    def __init__(self, pos, vel = 0):\n",
    "        self.pos = pos\n",
    "        self.vel = vel\n",
    "    def accelerate(self, num = 1):\n",
    "        self.vel += num\n",
    "    def decelerate(self, num = 1):\n",
    "        self.vel -= num\n",
    "    def time_step(self, t = 1):\n",
    "        self.pos += self.vel*t"
   ]
  },
  {
   "cell_type": "code",
   "execution_count": 8,
   "metadata": {
    "collapsed": true
   },
   "outputs": [],
   "source": [
    "c = Car(0)"
   ]
  },
  {
   "cell_type": "code",
   "execution_count": 14,
   "metadata": {
    "collapsed": false
   },
   "outputs": [
    {
     "name": "stdout",
     "output_type": "stream",
     "text": [
      "-3 -3\n"
     ]
    }
   ],
   "source": [
    "c.time_step()\n",
    "print(c.pos, c.vel)"
   ]
  },
  {
   "cell_type": "code",
   "execution_count": 80,
   "metadata": {
    "collapsed": true
   },
   "outputs": [],
   "source": [
    "class Lane:\n",
    "    def __init__(self, length):\n",
    "        self.len = length\n",
    "        self.road = [0]*self.len\n",
    "    def populate(self):\n",
    "        for i in range(self.len):\n",
    "            if random.random() > 0.6:\n",
    "                self.road[i] = Car(i)\n",
    "    def __str__(self):\n",
    "        rd = ''\n",
    "        for el in self.road:\n",
    "            if isinstance(el, Car):\n",
    "                rd += 'cc '\n",
    "            else:\n",
    "                rd += '__ '\n",
    "        return rd\n",
    "    def evolve(self):\n",
    "        "
   ]
  },
  {
   "cell_type": "code",
   "execution_count": 81,
   "metadata": {
    "collapsed": false
   },
   "outputs": [
    {
     "data": {
      "text/plain": [
       "'cc __ cc __ __ __ __ cc __ __ __ __ __ __ __ cc cc __ cc __ '"
      ]
     },
     "execution_count": 81,
     "metadata": {},
     "output_type": "execute_result"
    }
   ],
   "source": [
    "l = Lane(20)\n",
    "l.populate()\n",
    "str(l)"
   ]
  },
  {
   "cell_type": "code",
   "execution_count": null,
   "metadata": {
    "collapsed": true
   },
   "outputs": [],
   "source": []
  }
 ],
 "metadata": {
  "kernelspec": {
   "display_name": "Python 3",
   "language": "python",
   "name": "python3"
  },
  "language_info": {
   "codemirror_mode": {
    "name": "ipython",
    "version": 3
   },
   "file_extension": ".py",
   "mimetype": "text/x-python",
   "name": "python",
   "nbconvert_exporter": "python",
   "pygments_lexer": "ipython3",
   "version": "3.6.0"
  }
 },
 "nbformat": 4,
 "nbformat_minor": 2
}

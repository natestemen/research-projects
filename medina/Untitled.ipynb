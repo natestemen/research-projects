{
 "cells": [
  {
   "cell_type": "code",
   "execution_count": 1,
   "metadata": {
    "collapsed": true
   },
   "outputs": [],
   "source": [
    "%run 'Minimizer.py'"
   ]
  },
  {
   "cell_type": "code",
   "execution_count": 2,
   "metadata": {
    "collapsed": true
   },
   "outputs": [],
   "source": [
    "def functional(varVector, x, n=1, a=2, b=1.1, lam=1):\n",
    "    phi = approx_soln(varVector)\n",
    "    dphi = deriv(phi)\n",
    "    kinetic1 = x*(dphi**2)\n",
    "    kinetic2 = (n**2)*(phi**2)[1:]/x[1:]\n",
    "    kinetic2 = np.insert(kinetic2,0,0)\n",
    "    kinetic = kinetic1 + kinetic2\n",
    "    potential = phi**6 - a*(phi**4) + b*(phi**2)\n",
    "    integrand = 0.5*kinetic + lam*x*potential\n",
    "    return integrate.simps(integrand, x)"
   ]
  },
  {
   "cell_type": "code",
   "execution_count": null,
   "metadata": {
    "collapsed": true
   },
   "outputs": [],
   "source": [
    "MF = Minimizer(functional, lambda vec, J=60: sum(vec**2) - J, )"
   ]
  }
 ],
 "metadata": {
  "kernelspec": {
   "display_name": "Python 3",
   "language": "python",
   "name": "python3"
  },
  "language_info": {
   "codemirror_mode": {
    "name": "ipython",
    "version": 3
   },
   "file_extension": ".py",
   "mimetype": "text/x-python",
   "name": "python",
   "nbconvert_exporter": "python",
   "pygments_lexer": "ipython3",
   "version": "3.6.1"
  }
 },
 "nbformat": 4,
 "nbformat_minor": 2
}

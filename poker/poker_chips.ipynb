{
 "cells": [
  {
   "cell_type": "markdown",
   "metadata": {},
   "source": [
    "<h1 align = 'center'>Shuffling Cards</h1>\n",
    "\n",
    "Welcome, to the first entry of this blog. Thanks for coming! In this entry we will study what happens when we shuffle cards. We will of course make this more precise as we go, but the idea is very simple, and surprisingly (to me at least) generates some highly non-trivial results. No better way to get things going than to load some packages that will be used throughout this adventure!"
   ]
  },
  {
   "cell_type": "code",
   "execution_count": 1,
   "metadata": {
    "collapsed": true
   },
   "outputs": [],
   "source": [
    "import numpy as np\n",
    "import matplotlib\n",
    "import matplotlib.pyplot as plt\n",
    "%matplotlib inline\n",
    "matplotlib.rcParams.update({'font.size': 22,\n",
    "                            'figure.figsize': (11,7),\n",
    "                            'text.usetex': True,\n",
    "                            'grid.linestyle': ':'})"
   ]
  },
  {
   "cell_type": "markdown",
   "metadata": {},
   "source": [
    "# Backstory\n",
    "To give a bit of background, this all started when I started playing poker with some friends a few months ago. Now I have known how to shuffle cards for quite some time, but what I learned while playing poker, is how to shuffle chips. During the action of the game, players often shuffle two stacks of chips, and I of course had to learn when we started playing. Once I had the basic skill and could do it consistently, I noticed if I started with, say, 3 blue chips in one stack, and 3 red chips in another, after a few shuffles, they returned to their initial positions.\n",
    "\n",
    "Thats where this idea started, and the original notebook created for studying this _is_ titled `poker_chips.ipynb`. Once I got a few results and started looking more online I found that yes of course this has been studied, and people don't think of it as shuffling poker chips to no surprise. Now lets get into it!\n",
    "\n",
    "# Shuffles\n",
    "In reality, when shuffling cards, one hardly ever executes a perfect cut of the deck (half the cards in one pile, the other half in another), and then a perfect shuffle (one left, one right, one left,..., one right). So, of course, what we will study is an idealized shuffle, but of course there _are_ people who can do it (<a href = \"https://www.youtube.com/watch?v=SbfJ7oTh5qA\">here</a>)! In fact, in an old `Numberphile` video (<a href = \"https://www.youtube.com/watch?v=Y2lXsxmBx7E\">here</a>) you can see a perfect shuffle, and some more mathematics related to shuffling cards which is also very interesting.\n",
    "\n",
    "So getting to it, there are really two types of shuffles, and \"in shuffle\" and an \"out shuffle\". An \"out shuffle\" keeps the outermost cards (the one on the top and bottom) in the same spot, whereas in an \"in shuffle\" the top card ends second from the top and the bottom ends second from the bottom.\n",
    "\n",
    "So if we want to understand these shuffles, lets implement them!"
   ]
  },
  {
   "cell_type": "code",
   "execution_count": 3,
   "metadata": {
    "collapsed": true
   },
   "outputs": [],
   "source": [
    "def in_shuffle(deck):\n",
    "    shuffled = []\n",
    "    halfway = len(deck) // 2\n",
    "    for i in range(len(deck)):\n",
    "        if i % 2 == 0:\n",
    "            shuffled.append(deck[halfway + i // 2])\n",
    "        else:\n",
    "            shuffled.append(deck[i // 2])\n",
    "    return shuffled"
   ]
  },
  {
   "cell_type": "markdown",
   "metadata": {},
   "source": [
    "I understand this could be improved if we did the shuffle _in place_, but I haven't given it much thought, and later, we will see it's not really necessary.\n",
    "\n",
    "But the idea here is that we are given a deck of cards (implemented as a list) such as `[1,1,...,1,0,...,0,0]`, then we shuffle to obtain `[0,1,0,1,...,0,1,0,1]`."
   ]
  },
  {
   "cell_type": "code",
   "execution_count": 4,
   "metadata": {},
   "outputs": [],
   "source": [
    "def out_shuffle(deck):\n",
    "    shuffled = []\n",
    "    halfway = len(deck) // 2\n",
    "    for i in range(len(deck)):\n",
    "        if i % 2 == 0:\n",
    "            shuffled.append(deck[i // 2])\n",
    "        else:\n",
    "            shuffled.append(deck[halfway + i // 2])\n",
    "    return shuffled"
   ]
  },
  {
   "cell_type": "markdown",
   "metadata": {},
   "source": [
    "Here the shuffle goes from `[1,1,...,1,0,...,0,0]` to `[1,0,1,0,...,1,0,1,0]` and you can see that `out_shuffle = reverse(in_shuffle)`!\n",
    "\n",
    "The next thing we are going to need to do is keep these things shuffling until they come back to their initial configuration."
   ]
  },
  {
   "cell_type": "code",
   "execution_count": 5,
   "metadata": {
    "collapsed": true
   },
   "outputs": [],
   "source": [
    "def evolve_stack(size, option = 'in'):\n",
    "    if size % 2 != 0:\n",
    "        raise ValueError('size of deck must be even')\n",
    "    initial = [1 if i < size // 2 else 0 for i in range(size)]\n",
    "    if option == 'in':\n",
    "        shuffle_type = in_shuffle\n",
    "    else:\n",
    "        shuffle_type = out_shuffle\n",
    "    shuffled = shuffle_type(initial)\n",
    "    period = 1\n",
    "    while shuffled != initial:\n",
    "        shuffled = shuffle_type(shuffled)\n",
    "        period += 1\n",
    "    return period"
   ]
  },
  {
   "cell_type": "markdown",
   "metadata": {},
   "source": [
    "Now we can do all sorts of tests on a small number of cards to make sure this all runs correctly, and I can assure you I have done this, but, for sake of readability, have left it out. An interesting example to run, however is with 52 cards."
   ]
  },
  {
   "cell_type": "code",
   "execution_count": 8,
   "metadata": {},
   "outputs": [
    {
     "name": "stdout",
     "output_type": "stream",
     "text": [
      "in shuffle: 52\n",
      "out shuffle: 8\n"
     ]
    }
   ],
   "source": [
    "print('in shuffle: ' + str(evolve_stack(52, 'in')))\n",
    "print('out shuffle: ' + str(evolve_stack(52, 'out')))"
   ]
  },
  {
   "cell_type": "markdown",
   "metadata": {},
   "source": [
    "Hmmmm, kind of weird how different they are. Before we delve into some math, lets run it on more than one number and see what kind of trend we find."
   ]
  },
  {
   "cell_type": "code",
   "execution_count": 9,
   "metadata": {},
   "outputs": [],
   "source": [
    "sizes = [2*n for n in range(1,2000)]\n",
    "in_periods = [evolve_stack(n) for n in sizes]\n",
    "out_periods = [evolve_stack(n, 'out') for n in sizes]"
   ]
  },
  {
   "cell_type": "code",
   "execution_count": 23,
   "metadata": {},
   "outputs": [
    {
     "data": {
      "image/png": "[encoded data removed]",
      "text/plain": [
       "<matplotlib.figure.Figure at 0x11ab42c50>"
      ]
     },
     "metadata": {},
     "output_type": "display_data"
    }
   ],
   "source": [
    "plt.scatter(sizes, out_periods, marker = '.', label = 'Out Shuffles', c = '#ff0000', s = 10)\n",
    "plt.scatter(sizes, in_periods, marker = '.', label = 'In Shuffles', c = '#000000', s = 10)\n",
    "plt.xlabel('Number of Cards $n$')\n",
    "plt.ylabel('Period $k$')\n",
    "plt.title('Shuffles to Return to Initial Configuration')\n",
    "plt.legend()\n",
    "plt.grid()\n",
    "plt.tight_layout()"
   ]
  },
  {
   "cell_type": "markdown",
   "metadata": {},
   "source": [
    "Now I am not sure what you expected, but this sure as hell was not what I was expecting. In fact, I think it is probably much more interesting than what I was expecting.\n",
    "\n",
    "If our end goal is to better understand the function $ k(n) $, then we might conjecture right off the bat that $ k(n) \\leq n $ for all $n\\in\\mathbb{N}$. While it does look this to be true, we have only gone up to $4000$, and there are quite a few many numbers after that to break our conjecture.\n",
    "\n",
    "The first thing to note is that regardless of the shuffle, we seem to be getting the same pattern. In fact below we can see they are simply a shift away from one another, so we can cut it out with the out shuffles `:^)`."
   ]
  },
  {
   "cell_type": "code",
   "execution_count": 29,
   "metadata": {},
   "outputs": [
    {
     "name": "stdout",
     "output_type": "stream",
     "text": [
      "[2, 4, 6, 8, 10, 12, 14, 16, 18, 20, 22, 24, 26, 28, 30, 32, 34, 36, 38, 40]\n",
      "[2, 4, 3, 6, 10, 12, 4, 8, 18, 6, 11, 20, 18, 28, 5, 10, 12, 36, 12, 20]\n",
      "[1, 2, 4, 3, 6, 10, 12, 4, 8, 18, 6, 11, 20, 18, 28, 5, 10, 12, 36, 12]\n"
     ]
    }
   ],
   "source": [
    "print(sizes[:20])\n",
    "print(in_periods[:20])\n",
    "print(out_periods[:20])"
   ]
  },
  {
   "cell_type": "markdown",
   "metadata": {},
   "source": [
    "Our first mystery has been solved, and now we can stop worrying about what kind of shuffle we do.\n",
    "\n",
    "Before anything else happens, lets check the great <a href = 'https://oeis.org/'>Online Encyclopedia of Integer Sequences</a> for this one! Not too surprisingly this is sequence `A002326` which is labelled as \"multiplicative order of $2\\mod{2n+1}$\" which is quite interesting. In the description you will also find \"number of riffle shuffles of $2n+2$ cards required to return a deck to initial state\". Now if $n = 0$ i.e. we have 2 cards, then the number of shuffles is either 1, if we do out shuffles, or 2 if we do in shuffles. Since the first term in `A002326` is 1, we know they keep track of things via out shuffles.\n",
    "\n",
    "If we keep scrolling further, you will find some code (in various languages) to generate this sequence. Lucky for us, there is a python snippet which, now that it _seems_ $k(n) \\leq n$, runs in $O(n)$, whereas our code runs in $O(n^2)$, which is considerably slower. Actually to generate the above data took nearly ~15 minutes. Hence, we decided to run the posted python snippet (below) on a considerably larger input (only half a million, but)"
   ]
  },
  {
   "cell_type": "code",
   "execution_count": null,
   "metadata": {
    "collapsed": true
   },
   "outputs": [],
   "source": [
    "def A002326(n):\n",
    "    a = 1\n",
    "    m = 0\n",
    "    while True:\n",
    "        a *= 2\n",
    "        a %= (2*n + 1)\n",
    "        m += 1\n",
    "        if a <= 1:\n",
    "            break\n",
    "    return m"
   ]
  },
  {
   "cell_type": "code",
   "execution_count": 50,
   "metadata": {},
   "outputs": [
    {
     "data": {
      "text/plain": [
       "[(2, 2),\n",
       " (4, 4),\n",
       " (6, 3),\n",
       " (8, 6),\n",
       " (10, 10),\n",
       " (12, 12),\n",
       " (14, 4),\n",
       " (16, 8),\n",
       " (18, 18),\n",
       " (20, 6),\n",
       " (22, 11),\n",
       " (24, 20),\n",
       " (26, 18),\n",
       " (28, 28),\n",
       " (30, 5),\n",
       " (32, 10),\n",
       " (34, 12),\n",
       " (36, 36),\n",
       " (38, 12),\n",
       " (40, 20)]"
      ]
     },
     "execution_count": 50,
     "metadata": {},
     "output_type": "execute_result"
    }
   ],
   "source": [
    "[(i, v) for i, v in enumerate(in_periods,1)][:20]"
   ]
  },
  {
   "cell_type": "code",
   "execution_count": 46,
   "metadata": {},
   "outputs": [
    {
     "name": "stdout",
     "output_type": "stream",
     "text": [
      "[1, 2, 5, 6, 9, 14, 18, 26, 29, 30, 33, 41, 50, 53, 65, 69, 74, 81, 86, 89, 90, 98, 105, 113, 134, 146, 158, 173, 174, 186, 189, 194, 209, 210, 221, 230, 233, 245, 254, 261, 270, 273, 278, 281, 293, 306, 309, 326, 329, 330, 338, 350, 354, 378, 386, 393, 398, 410, 413, 414, 426, 429, 438, 441, 453, 470, 473, 509, 530, 545, 554, 558, 561, 585, 593, 606, 614, 618, 629, 638, 641, 645, 650, 653, 686, 690, 713, 725, 726, 741, 746, 749, 761, 765, 774, 785, 809, 810, 818, 833, 834, 846, 866, 870, 873, 893, 930, 933, 938, 950, 953, 965, 974, 986, 989, 993, 998, 1013, 1014, 1026, 1034, 1041, 1049, 1065, 1070, 1106, 1110, 1118, 1121, 1133, 1134, 1146, 1154, 1166, 1169, 1178, 1185, 1194, 1218, 1229, 1233, 1238, 1265, 1269, 1274, 1278, 1289, 1310, 1329, 1338, 1341, 1346, 1349, 1353, 1370, 1394, 1398, 1401, 1409, 1418, 1421, 1425, 1430, 1454, 1469, 1478, 1481, 1505, 1509, 1518, 1533, 1541, 1593, 1601, 1626, 1649, 1653, 1661, 1673, 1685, 1706, 1730, 1733, 1734, 1745, 1749, 1758, 1766, 1769, 1773, 1778, 1785, 1790, 1806, 1818, 1821, 1829, 1838, 1845, 1850, 1854, 1866, 1889, 1898, 1901, 1925, 1926, 1938, 1953, 1958, 1961, 1965, 1973, 1994]\n"
     ]
    }
   ],
   "source": [
    "sizes = []\n",
    "pers = []\n",
    "with open('card_data.txt', 'r') as f:\n",
    "    for line in f:\n",
    "        sizes.append(int(line[1]))\n",
    "        "
   ]
  },
  {
   "cell_type": "code",
   "execution_count": 272,
   "metadata": {},
   "outputs": [
    {
     "data": {
      "text/plain": [
       "6"
      ]
     },
     "execution_count": 272,
     "metadata": {},
     "output_type": "execute_result"
    }
   ],
   "source": [
    "in_periods[30]"
   ]
  },
  {
   "cell_type": "code",
   "execution_count": 247,
   "metadata": {},
   "outputs": [
    {
     "name": "stdout",
     "output_type": "stream",
     "text": [
      "[3, 8, 11, 20, 23, 35, 39, 48, 51, 68, 83, 95, 96, 99, 119, 131, 135, 155, 156, 179, 183, 191, 200, 204, 224, 231, 239, 243, 251, 260, 284, 299, 303, 323, 359, 371, 375, 380, 384, 404, 411, 419, 428, 431, 443, 464, 483, 488, 491, 495]\n"
     ]
    }
   ],
   "source": [
    "identity = [i for i, n in enumerate(periods) if i == n]\n",
    "print(identity)"
   ]
  },
  {
   "cell_type": "code",
   "execution_count": 245,
   "metadata": {},
   "outputs": [
    {
     "data": {
      "text/plain": [
       "51"
      ]
     },
     "execution_count": 245,
     "metadata": {},
     "output_type": "execute_result"
    }
   ],
   "source": [
    "periods[51]"
   ]
  },
  {
   "cell_type": "code",
   "execution_count": 248,
   "metadata": {},
   "outputs": [
    {
     "name": "stdout",
     "output_type": "stream",
     "text": [
      "[15, 111, 216, 219, 228, 363, 459]\n"
     ]
    }
   ],
   "source": [
    "two_thirds = [i for i, n in enumerate(periods) if i/3 == n]\n",
    "print(two_thirds)"
   ]
  },
  {
   "cell_type": "code",
   "execution_count": 251,
   "metadata": {},
   "outputs": [
    {
     "data": {
      "text/plain": [
       "72"
      ]
     },
     "execution_count": 251,
     "metadata": {},
     "output_type": "execute_result"
    }
   ],
   "source": [
    "periods[216]"
   ]
  },
  {
   "cell_type": "code",
   "execution_count": 262,
   "metadata": {},
   "outputs": [
    {
     "name": "stdout",
     "output_type": "stream",
     "text": [
      "[4, 12, 13, 40, 60, 62, 84, 121, 180, 312, 364, 420]\n"
     ]
    }
   ],
   "source": [
    "weird = [i for i, n in enumerate(periods) if i < n < 2*i]\n",
    "print(weird)"
   ]
  },
  {
   "cell_type": "code",
   "execution_count": 264,
   "metadata": {},
   "outputs": [
    {
     "data": {
      "text/plain": [
       "812"
      ]
     },
     "execution_count": 264,
     "metadata": {},
     "output_type": "execute_result"
    }
   ],
   "source": [
    "periods[420]"
   ]
  },
  {
   "cell_type": "code",
   "execution_count": 268,
   "metadata": {},
   "outputs": [
    {
     "data": {
      "text/plain": [
       "3999"
      ]
     },
     "execution_count": 268,
     "metadata": {},
     "output_type": "execute_result"
    }
   ],
   "source": [
    "len(sizes)"
   ]
  },
  {
   "cell_type": "code",
   "execution_count": null,
   "metadata": {
    "collapsed": true
   },
   "outputs": [],
   "source": []
  },
  {
   "cell_type": "code",
   "execution_count": null,
   "metadata": {
    "collapsed": true
   },
   "outputs": [],
   "source": []
  },
  {
   "cell_type": "code",
   "execution_count": null,
   "metadata": {
    "collapsed": true
   },
   "outputs": [],
   "source": []
  },
  {
   "cell_type": "code",
   "execution_count": null,
   "metadata": {
    "collapsed": true
   },
   "outputs": [],
   "source": []
  },
  {
   "cell_type": "code",
   "execution_count": null,
   "metadata": {
    "collapsed": true
   },
   "outputs": [],
   "source": []
  },
  {
   "cell_type": "code",
   "execution_count": null,
   "metadata": {
    "collapsed": true
   },
   "outputs": [],
   "source": []
  },
  {
   "cell_type": "code",
   "execution_count": null,
   "metadata": {
    "collapsed": true
   },
   "outputs": [],
   "source": []
  },
  {
   "cell_type": "code",
   "execution_count": null,
   "metadata": {
    "collapsed": true
   },
   "outputs": [],
   "source": []
  },
  {
   "cell_type": "code",
   "execution_count": null,
   "metadata": {
    "collapsed": true
   },
   "outputs": [],
   "source": []
  },
  {
   "cell_type": "code",
   "execution_count": null,
   "metadata": {
    "collapsed": true
   },
   "outputs": [],
   "source": []
  },
  {
   "cell_type": "code",
   "execution_count": null,
   "metadata": {
    "collapsed": true
   },
   "outputs": [],
   "source": []
  },
  {
   "cell_type": "code",
   "execution_count": null,
   "metadata": {
    "collapsed": true
   },
   "outputs": [],
   "source": []
  },
  {
   "cell_type": "markdown",
   "metadata": {},
   "source": [
    "Thus, if we have two stacks `[0,1,0]` and `[1,0,1]` we should have the following output if we pass them into one and two respectively.\n",
    "\n",
    "`stack 1    stack 2\n",
    "0          1\n",
    "1          0\n",
    "0          1`"
   ]
  },
  {
   "cell_type": "code",
   "execution_count": 3,
   "metadata": {},
   "outputs": [
    {
     "name": "stdout",
     "output_type": "stream",
     "text": [
      "red\n",
      "blue\n",
      "red\n",
      "blue\n",
      "red\n",
      "red\n",
      "red\n",
      "red\n",
      "blue\n",
      "blue\n",
      "blue\n",
      "blue\n"
     ]
    }
   ],
   "source": [
    "print_stack([1,1,1,1,0,0,0,0,1,0,1,0])"
   ]
  },
  {
   "cell_type": "markdown",
   "metadata": {},
   "source": [
    "The next function we will build will iterate through one step of the shuffling process. This function is made separate since this is where a bulk of the computation will occur."
   ]
  },
  {
   "cell_type": "code",
   "execution_count": 190,
   "metadata": {
    "collapsed": true
   },
   "outputs": [],
   "source": [
    "def one_step(left, right):\n",
    "    \"\"\"\n",
    "    given chip configuration left and right, will return\n",
    "    configuration once the two stacks are riffle shuffled\n",
    "    together and restacked to form two stacks. this is done\n",
    "    by alternating between left and right, picking chips\n",
    "    and placing them in the correct new stack. runs in O(n)\n",
    "    where n is the size of the stack\n",
    "    \"\"\"\n",
    "    stop = len(left)\n",
    "    if stop != len(right):\n",
    "        raise ValueError('stacks must be of same size')\n",
    "    new_left = []\n",
    "    new_right = []\n",
    "    i = 0\n",
    "    lc = 0\n",
    "    rc = 0\n",
    "    while i < 2*stop: # O(2*n) = O(n)\n",
    "        if i % 2 == 0:\n",
    "            if i < stop:\n",
    "                new_left.append(right[rc])\n",
    "                rc += 1\n",
    "            else:\n",
    "                new_right.append(right[rc])\n",
    "                rc += 1\n",
    "        else:\n",
    "            if i < stop:\n",
    "                new_left.append(left[lc])\n",
    "                lc += 1\n",
    "            else:\n",
    "                new_right.append(left[lc])\n",
    "                lc += 1\n",
    "        i += 1\n",
    "    return new_left, new_right"
   ]
  },
  {
   "cell_type": "markdown",
   "metadata": {},
   "source": [
    "To make sure this function does what we want, lets run a few test cases."
   ]
  },
  {
   "cell_type": "code",
   "execution_count": 290,
   "metadata": {},
   "outputs": [
    {
     "name": "stdout",
     "output_type": "stream",
     "text": [
      "stack 1  \t stack 2\n",
      "1\t\t 0\n",
      "0\t\t 1\n",
      "1\t\t 0\n"
     ]
    }
   ],
   "source": [
    "nl, nr = one_step([0,0,0], [1,1,1])\n",
    "print_stacks(nl, nr)"
   ]
  },
  {
   "cell_type": "code",
   "execution_count": 291,
   "metadata": {},
   "outputs": [
    {
     "name": "stdout",
     "output_type": "stream",
     "text": [
      "stack 1  \t stack 2\n",
      "0\t\t 0\n",
      "1\t\t 1\n"
     ]
    }
   ],
   "source": [
    "nl, nr = one_step([0,0], [1,1])\n",
    "print_stacks(nl, nr)"
   ]
  },
  {
   "cell_type": "markdown",
   "metadata": {},
   "source": [
    "Of course we could run more, but i'll leave that for you :^).\n",
    "\n",
    "We can now write the function that will take in the number of chips we wish to start with, build the initial conditions, and iterate until we are back at where we started. Note that while the `print_stack` calls are commented out, they run because we only comment them out later."
   ]
  },
  {
   "cell_type": "code",
   "execution_count": 307,
   "metadata": {
    "collapsed": true
   },
   "outputs": [],
   "source": [
    "def evolve_stack(size):\n",
    "    '''given a number of chips (size), computes the number\n",
    "    of iterations needed to return to configuration of all\n",
    "    0's on one side, and all 1's on the other. runs in \n",
    "    O(n^2) where n is the size of the stack'''\n",
    "    left_start = [0 for _ in range(size)]  # O(size)\n",
    "    right_start = [1 for _ in range(size)] # O(size)\n",
    "#     print_stacks(left_start, right_start)\n",
    "    ls = left_start\n",
    "    rs = right_start\n",
    "    for period in range(10*size): # O(size)\n",
    "        ls, rs = one_step(ls, rs) # O(size)\n",
    "#         print_stacks(ls, rs)\n",
    "        if ls == left_start and rs == right_start:\n",
    "            return period + 1\n",
    "    return -1"
   ]
  },
  {
   "cell_type": "markdown",
   "metadata": {},
   "source": [
    "Now we can run some base cases that we have done by hand. This is not hard, but maybe rather tedious."
   ]
  },
  {
   "cell_type": "code",
   "execution_count": 306,
   "metadata": {
    "scrolled": true
   },
   "outputs": [
    {
     "name": "stdout",
     "output_type": "stream",
     "text": [
      "-------------------\n",
      "STARTING WITH N = 1\n",
      "-------------------\n",
      "stack 1  \t stack 2\n",
      "0\t\t 1\n",
      "stack 1  \t stack 2\n",
      "1\t\t 0\n",
      "stack 1  \t stack 2\n",
      "0\t\t 1\n",
      "\n",
      "-------------------\n",
      "STARTING WITH N = 2\n",
      "-------------------\n",
      "stack 1  \t stack 2\n",
      "0\t\t 1\n",
      "0\t\t 1\n",
      "stack 1  \t stack 2\n",
      "0\t\t 0\n",
      "1\t\t 1\n",
      "stack 1  \t stack 2\n",
      "1\t\t 0\n",
      "1\t\t 0\n",
      "stack 1  \t stack 2\n",
      "1\t\t 1\n",
      "0\t\t 0\n",
      "stack 1  \t stack 2\n",
      "0\t\t 1\n",
      "0\t\t 1\n",
      "\n",
      "-------------------\n",
      "STARTING WITH N = 3\n",
      "-------------------\n",
      "stack 1  \t stack 2\n",
      "0\t\t 1\n",
      "0\t\t 1\n",
      "0\t\t 1\n",
      "stack 1  \t stack 2\n",
      "1\t\t 0\n",
      "0\t\t 1\n",
      "1\t\t 0\n",
      "stack 1  \t stack 2\n",
      "1\t\t 1\n",
      "1\t\t 0\n",
      "0\t\t 0\n",
      "stack 1  \t stack 2\n",
      "0\t\t 1\n",
      "0\t\t 1\n",
      "0\t\t 1\n",
      "\n",
      "-------------------\n",
      "STARTING WITH N = 4\n",
      "-------------------\n",
      "stack 1  \t stack 2\n",
      "0\t\t 1\n",
      "0\t\t 1\n",
      "0\t\t 1\n",
      "0\t\t 1\n",
      "stack 1  \t stack 2\n",
      "0\t\t 0\n",
      "1\t\t 1\n",
      "0\t\t 0\n",
      "1\t\t 1\n",
      "stack 1  \t stack 2\n",
      "0\t\t 0\n",
      "0\t\t 0\n",
      "1\t\t 1\n",
      "1\t\t 1\n",
      "stack 1  \t stack 2\n",
      "1\t\t 0\n",
      "1\t\t 0\n",
      "1\t\t 0\n",
      "1\t\t 0\n",
      "stack 1  \t stack 2\n",
      "1\t\t 1\n",
      "0\t\t 0\n",
      "1\t\t 1\n",
      "0\t\t 0\n",
      "stack 1  \t stack 2\n",
      "1\t\t 1\n",
      "1\t\t 1\n",
      "0\t\t 0\n",
      "0\t\t 0\n",
      "stack 1  \t stack 2\n",
      "0\t\t 1\n",
      "0\t\t 1\n",
      "0\t\t 1\n",
      "0\t\t 1\n",
      "\n",
      "[2, 4, 3, 6]\n"
     ]
    }
   ],
   "source": [
    "periods = []\n",
    "for i in range(1, 5):\n",
    "    print('-------------------')\n",
    "    print('STARTING WITH N = {0}'.format(i))\n",
    "    print('-------------------')\n",
    "    periods.append(evolve_stack(i))\n",
    "    print('')\n",
    "print(periods)"
   ]
  },
  {
   "cell_type": "markdown",
   "metadata": {},
   "source": [
    "If this is at all confusing, remember that this riffle shuffle is such that the chip on the bottom right stays put, and the chip on the bottom left slides over it. Once the shuffle is complete, the top $\\frac{N}{2}$ chips are removed, and moved to the right.\n",
    "\n",
    "Now that we have this working, we can run `evolve_stack` on a much larger data set to obtain much more data. Since we are confident in the workings of this this function, the printing functions are commented out so we don't have to deal with so much output."
   ]
  },
  {
   "cell_type": "code",
   "execution_count": 270,
   "metadata": {
    "collapsed": true
   },
   "outputs": [],
   "source": [
    "x = list(range(2000))\n",
    "per = [evolve_stack(i) for i in x]"
   ]
  },
  {
   "cell_type": "markdown",
   "metadata": {},
   "source": [
    "Before we go ahead and play with all this data, lets go ahead and take a look at it to see if we find anything interesting."
   ]
  },
  {
   "cell_type": "code",
   "execution_count": 350,
   "metadata": {},
   "outputs": [
    {
     "data": {
      "image/png": "[encoded data removed]",
      "text/plain": [
       "<matplotlib.figure.Figure at 0x11ba1c4a8>"
      ]
     },
     "metadata": {},
     "output_type": "display_data"
    }
   ],
   "source": [
    "plt.scatter(x, per, marker='.')\n",
    "plt.xlabel('Number of Chips $n$')\n",
    "plt.ylabel('Period $k$')\n",
    "plt.title('Chip shuffles to return to initial configuration')\n",
    "# plt.plot(x, (2/3)*np.array(x), color = 'r')\n",
    "# plt.ylim([30,50])\n",
    "# plt.scatter(np.linspace(1,2000,100), np.log(np.linspace(1,2000,100)), marker='.')\n",
    "plt.grid();"
   ]
  },
  {
   "cell_type": "markdown",
   "metadata": {},
   "source": [
    "Now I'm not sure what I expected to see after running this, but it surely wasn't this. There is clearly some exciting mathematics to be had here.\n",
    "\n",
    "There are many clear patterns, but right off the bat we can conjecture that $k(n)\\leq 2n$ for all $n\\in\\mathbb{N}$."
   ]
  },
  {
   "cell_type": "code",
   "execution_count": 326,
   "metadata": {
    "collapsed": true
   },
   "outputs": [],
   "source": [
    "two_pow = [2**i for i in range(11)]\n",
    "two_pow_dat = [evolve_stack(i) for i in two_pow]"
   ]
  },
  {
   "cell_type": "code",
   "execution_count": 327,
   "metadata": {},
   "outputs": [
    {
     "name": "stdout",
     "output_type": "stream",
     "text": [
      "[2, 4, 6, 8, 10, 12, 14, 16, 18, 20, 22]\n"
     ]
    }
   ],
   "source": [
    "print(two_pow_dat)"
   ]
  },
  {
   "cell_type": "code",
   "execution_count": 352,
   "metadata": {
    "collapsed": true
   },
   "outputs": [],
   "source": [
    "weird = {}\n",
    "for i in range(len(per)):\n",
    "    if i < per[i] < 2*i:\n",
    "        weird[i] = per[i]"
   ]
  },
  {
   "cell_type": "code",
   "execution_count": 353,
   "metadata": {},
   "outputs": [
    {
     "name": "stdout",
     "output_type": "stream",
     "text": [
      "[6, 20, 18, 54, 110, 100, 156, 162, 342, 500, 486, 812, 1210, 1332, 1458, 2028, 2756, 2500, 3422, 3660]\n"
     ]
    }
   ],
   "source": [
    "print([weird[i] for i in weird])"
   ]
  },
  {
   "cell_type": "code",
   "execution_count": 368,
   "metadata": {
    "collapsed": true
   },
   "outputs": [
    {
     "name": "stdout",
     "output_type": "stream",
     "text": [
      "0\n",
      "2\n",
      "4\n",
      "10\n",
      "12\n",
      "18\n",
      "28\n",
      "36\n",
      "52\n",
      "58\n",
      "60\n",
      "66\n",
      "82\n",
      "100\n",
      "106\n",
      "130\n",
      "138\n",
      "148\n",
      "162\n",
      "172\n",
      "178\n",
      "180\n",
      "196\n",
      "210\n",
      "226\n",
      "268\n",
      "292\n",
      "316\n",
      "346\n",
      "348\n",
      "372\n",
      "378\n",
      "388\n",
      "418\n",
      "420\n",
      "442\n",
      "460\n",
      "466\n",
      "490\n",
      "508\n",
      "522\n",
      "540\n",
      "546\n",
      "556\n",
      "562\n",
      "586\n",
      "612\n",
      "618\n",
      "652\n",
      "658\n",
      "660\n",
      "676\n",
      "700\n",
      "708\n",
      "756\n",
      "772\n",
      "786\n",
      "796\n",
      "820\n",
      "826\n",
      "828\n",
      "852\n",
      "858\n",
      "876\n",
      "882\n",
      "906\n",
      "940\n",
      "946\n",
      "1018\n",
      "1060\n",
      "1090\n",
      "1108\n",
      "1116\n",
      "1122\n",
      "1170\n",
      "1186\n",
      "1212\n",
      "1228\n",
      "1236\n",
      "1258\n",
      "1276\n",
      "1282\n",
      "1290\n",
      "1300\n",
      "1306\n",
      "1372\n",
      "1380\n",
      "1426\n",
      "1450\n",
      "1452\n",
      "1482\n",
      "1492\n",
      "1498\n",
      "1522\n",
      "1530\n",
      "1548\n",
      "1570\n",
      "1618\n",
      "1620\n",
      "1636\n",
      "1666\n",
      "1668\n",
      "1692\n",
      "1732\n",
      "1740\n",
      "1746\n",
      "1786\n",
      "1860\n",
      "1866\n",
      "1876\n",
      "1900\n",
      "1906\n",
      "1930\n",
      "1948\n",
      "1972\n",
      "1978\n",
      "1986\n",
      "1996\n",
      "2026\n",
      "2028\n",
      "2052\n",
      "2068\n",
      "2082\n",
      "2098\n",
      "2130\n",
      "2140\n",
      "2212\n",
      "2220\n",
      "2236\n",
      "2242\n",
      "2266\n",
      "2268\n",
      "2292\n",
      "2308\n",
      "2332\n",
      "2338\n",
      "2356\n",
      "2370\n",
      "2388\n",
      "2436\n",
      "2458\n",
      "2466\n",
      "2476\n",
      "2530\n",
      "2538\n",
      "2548\n",
      "2556\n",
      "2578\n",
      "2620\n",
      "2658\n",
      "2676\n",
      "2682\n",
      "2692\n",
      "2698\n",
      "2706\n",
      "2740\n",
      "2788\n",
      "2796\n",
      "2802\n",
      "2818\n",
      "2836\n",
      "2842\n",
      "2850\n",
      "2860\n",
      "2908\n",
      "2938\n",
      "2956\n",
      "2962\n",
      "3010\n",
      "3018\n",
      "3036\n",
      "3066\n",
      "3082\n",
      "3186\n",
      "3202\n",
      "3252\n",
      "3298\n",
      "3306\n",
      "3322\n",
      "3346\n",
      "3370\n",
      "3412\n",
      "3460\n",
      "3466\n",
      "3468\n",
      "3490\n",
      "3498\n",
      "3516\n",
      "3532\n",
      "3538\n",
      "3546\n",
      "3556\n",
      "3570\n",
      "3580\n",
      "3612\n",
      "3636\n",
      "3642\n",
      "3658\n",
      "3676\n",
      "3690\n",
      "3700\n",
      "3708\n",
      "3732\n",
      "3778\n",
      "3796\n",
      "3802\n",
      "3850\n",
      "3852\n",
      "3876\n",
      "3906\n",
      "3916\n",
      "3922\n",
      "3930\n",
      "3946\n",
      "3988\n"
     ]
    }
   ],
   "source": [
    "doubles = []\n",
    "for i in range(len(per)):\n",
    "    if per[i] == 2*i:\n",
    "        print(per[i])\n",
    "        doubles.append(i)"
   ]
  },
  {
   "cell_type": "code",
   "execution_count": 355,
   "metadata": {},
   "outputs": [
    {
     "name": "stdout",
     "output_type": "stream",
     "text": [
      "[0, 1, 2, 5, 6, 9, 14, 18, 26, 29, 30, 33, 41, 50, 53, 65, 69, 74, 81, 86, 89, 90, 98, 105, 113, 134, 146, 158, 173, 174, 186, 189, 194, 209, 210, 221, 230, 233, 245, 254, 261, 270, 273, 278, 281, 293, 306, 309, 326, 329, 330, 338, 350, 354, 378, 386, 393, 398, 410, 413, 414, 426, 429, 438, 441, 453, 470, 473, 509, 530, 545, 554, 558, 561, 585, 593, 606, 614, 618, 629, 638, 641, 645, 650, 653, 686, 690, 713, 725, 726, 741, 746, 749, 761, 765, 774, 785, 809, 810, 818, 833, 834, 846, 866, 870, 873, 893, 930, 933, 938, 950, 953, 965, 974, 986, 989, 993, 998, 1013, 1014, 1026, 1034, 1041, 1049, 1065, 1070, 1106, 1110, 1118, 1121, 1133, 1134, 1146, 1154, 1166, 1169, 1178, 1185, 1194, 1218, 1229, 1233, 1238, 1265, 1269, 1274, 1278, 1289, 1310, 1329, 1338, 1341, 1346, 1349, 1353, 1370, 1394, 1398, 1401, 1409, 1418, 1421, 1425, 1430, 1454, 1469, 1478, 1481, 1505, 1509, 1518, 1533, 1541, 1593, 1601, 1626, 1649, 1653, 1661, 1673, 1685, 1706, 1730, 1733, 1734, 1745, 1749, 1758, 1766, 1769, 1773, 1778, 1785, 1790, 1806, 1818, 1821, 1829, 1838, 1845, 1850, 1854, 1866, 1889, 1898, 1901, 1925, 1926, 1938, 1953, 1958, 1961, 1965, 1973, 1994]\n"
     ]
    }
   ],
   "source": [
    "print(doubles)"
   ]
  },
  {
   "cell_type": "code",
   "execution_count": 367,
   "metadata": {},
   "outputs": [],
   "source": [
    "identity = []\n",
    "for i in range(len(per)):\n",
    "    if per[i] == i:\n",
    "        identity.append(i)"
   ]
  },
  {
   "cell_type": "code",
   "execution_count": 362,
   "metadata": {},
   "outputs": [
    {
     "name": "stdout",
     "output_type": "stream",
     "text": [
      "[0, 3, 8, 11, 20, 23, 35, 39, 48, 51, 68, 83, 95, 96, 99, 119, 131, 135, 155, 156, 179, 183, 191, 200, 204, 224, 231, 239, 243, 251, 260, 284, 299, 303, 323, 359, 371, 375, 380, 384, 404, 411, 419, 428, 431, 443, 464, 483, 488, 491, 495, 504, 515, 519, 531, 543, 564, 575, 611, 615, 639, 648, 651, 659, 680, 683, 704, 719, 723, 743, 744, 755, 771, 779, 783, 791, 803, 831, 848, 879, 891, 911, 923, 935, 936, 939, 975, 996, 1019, 1031, 1040, 1043, 1055, 1068, 1076, 1080, 1103, 1119, 1148, 1155, 1188, 1199, 1208, 1211, 1223, 1251, 1260, 1271, 1275, 1295, 1304, 1308, 1316, 1323, 1331, 1355, 1356, 1359, 1364, 1376, 1388, 1400, 1439, 1443, 1448, 1451, 1463, 1499, 1500, 1511, 1520, 1539, 1559, 1583, 1584, 1604, 1659, 1664, 1679, 1703, 1716, 1755, 1763, 1779, 1791, 1796, 1808, 1811, 1835, 1848, 1859, 1863, 1883, 1884, 1896, 1923, 1931, 1955, 1959, 1964, 1983]\n"
     ]
    }
   ],
   "source": [
    "print(identity)"
   ]
  },
  {
   "cell_type": "code",
   "execution_count": 363,
   "metadata": {
    "collapsed": true
   },
   "outputs": [],
   "source": [
    "twothirds = []\n",
    "for i in range(len(per)):\n",
    "    if per[i] == 2*i/3:\n",
    "        twothirds.append(i)"
   ]
  },
  {
   "cell_type": "code",
   "execution_count": 364,
   "metadata": {},
   "outputs": [
    {
     "name": "stdout",
     "output_type": "stream",
     "text": [
      "[0, 21, 54, 78, 114, 138, 141, 153, 249, 321, 345, 366, 369, 405, 498, 510, 525, 534, 546, 729, 789, 798, 813, 849, 861, 894, 966, 1089, 1101, 1125, 1170, 1173, 1374, 1458, 1581, 1590, 1614, 1629, 1686]\n"
     ]
    }
   ],
   "source": [
    "print(twothirds)"
   ]
  },
  {
   "cell_type": "code",
   "execution_count": 369,
   "metadata": {},
   "outputs": [
    {
     "name": "stdout",
     "output_type": "stream",
     "text": [
      "[0, 2, 4, 3, 6, 10, 12, 4, 8, 18, 6, 11, 20, 18, 28, 5, 10, 12, 36, 12, 20, 14, 12, 23, 21, 8, 52, 20, 18, 58, 60, 6, 12, 66, 22, 35, 9, 20, 30, 39, 54, 82, 8, 28, 11, 12, 10, 36, 48, 30, 100, 51, 12, 106, 36, 36, 28, 44, 12, 24, 110, 20, 100, 7, 14, 130, 18, 36, 68, 138, 46, 60, 28, 42, 148, 15, 24, 20, 52, 52, 33, 162, 20, 83, 156, 18, 172, 60, 58, 178, 180, 60, 36, 40, 18, 95, 96, 12, 196, 99, 66, 84, 20, 66, 90, 210, 70, 28, 15, 18, 24, 37, 60, 226, 76, 30, 29, 92, 78, 119, 24, 162, 84, 36, 82, 50, 110, 8, 16, 36, 84, 131, 52, 22, 268, 135, 12, 20, 92, 30, 70, 94, 36, 60, 136, 48, 292, 116, 90, 132, 42, 100, 60, 102, 102, 155, 156, 12, 316, 140, 106, 72, 60, 36, 69, 30, 36, 132, 21, 28, 10, 147, 44, 346, 348, 36, 88, 140, 24, 179, 342, 110, 36, 183, 60, 156, 372, 100, 84, 378, 14, 191, 60, 42, 388, 88, 130, 156, 44, 18, 200, 60, 108, 180, 204, 68, 174, 164, 138, 418, 420, 138, 40, 60, 60, 43, 72, 28, 198, 73, 42, 442, 44, 148, 224, 20, 30, 12, 76, 72, 460, 231, 20, 466, 66, 52, 70, 180, 156, 239, 36, 66, 48, 243, 162, 490, 56, 60, 105, 166, 166, 251, 100, 156, 508, 9, 18, 204, 230, 172, 260, 522, 60, 40, 253, 174, 60, 212, 178, 210, 540, 180, 36, 546, 60, 252, 39, 36, 556, 84, 40, 562, 28, 54, 284, 114, 190, 220, 144, 96, 246, 260, 12, 586, 90, 196, 148, 24, 198, 299, 25, 66, 220, 303, 84, 276, 612, 20, 154, 618, 198, 33, 500, 90, 72, 45, 210, 28, 84, 210, 64, 214, 28, 323, 290, 30, 652, 260, 18, 658, 660, 24, 36, 308, 74, 60, 48, 180, 676, 48, 226, 22, 68, 76, 156, 230, 30, 276, 40, 58, 700, 36, 92, 300, 708, 78, 55, 60, 238, 359, 51, 24, 140, 121, 486, 56, 244, 84, 330, 246, 36, 371, 148, 246, 318, 375, 50, 60, 756, 110, 380, 36, 24, 348, 384, 16, 772, 20, 36, 180, 70, 252, 52, 786, 262, 84, 60, 52, 796, 184, 66, 90, 132, 268, 404, 270, 270, 324, 126, 12, 820, 411, 20, 826, 828, 92, 168, 332, 90, 419, 812, 70, 156, 330, 94, 396, 852, 36, 428, 858, 60, 431, 172, 136, 390, 132, 48, 300, 876, 292, 55, 882, 116, 443, 21, 270, 414, 356, 132, 140, 104, 42, 180, 906, 300, 91, 410, 60, 390, 153, 102, 420, 180, 102, 464, 126, 310, 40, 117, 156, 940, 220, 36, 946, 36, 316, 68, 380, 140, 204, 155, 318, 96, 483, 72, 194, 138, 60, 488, 110, 36, 491, 196, 138, 154, 495, 30, 396, 332, 36, 60, 232, 132, 468, 504, 42, 92, 84, 84, 1018, 340, 10, 20, 156, 294, 515, 258, 132, 120, 519, 346, 444, 180, 348, 262, 350, 108, 420, 15, 88, 1060, 531, 140, 240, 356, 24, 252, 140, 358, 492, 253, 342, 60, 543, 330, 1090, 364, 36, 274, 156, 366, 29, 24, 180, 1108, 100, 156, 148, 1116, 372, 522, 1122, 300, 231, 564, 84, 510, 452, 378, 264, 162, 42, 76, 180, 382, 575, 288, 60, 132, 180, 126, 166, 116, 388, 249, 1170, 88, 460, 530, 390, 236, 156, 156, 1186, 140, 44, 298, 476, 18, 180, 300, 200, 24, 280, 60, 516, 1212, 324, 152, 572, 180, 611, 420, 204, 1228, 615, 204, 36, 1236, 174, 72, 140, 164, 28, 156, 138, 534, 100, 418, 1258, 48, 420, 220, 180, 414, 20, 198, 40, 1276, 639, 60, 1282, 16, 60, 161, 1290, 86, 36, 648, 72, 1300, 651, 84, 1306, 120, 198, 300, 524, 146, 659, 60, 126, 260, 221, 442, 1210, 70, 44, 285, 204, 444, 312, 268, 224, 630, 96, 20, 540, 638, 30, 680, 644, 12, 683, 1332, 76, 1372, 100, 216, 588, 1380, 460, 92, 18, 462, 636, 99, 60, 70, 233, 466, 660, 140, 66, 704, 328, 156, 188, 36, 70, 84, 237, 180, 1426, 84, 468, 179, 60, 478, 719, 130, 36, 136, 723, 66, 1450, 1452, 48, 115, 486, 486, 90, 292, 162, 84, 245, 490, 580, 210, 56, 370, 1482, 180, 743, 744, 210, 1492, 132, 166, 1498, 234, 498, 84, 340, 502, 755, 88, 100, 180, 105, 156, 1522, 60, 508, 690, 1530, 18, 204, 364, 54, 66, 771, 204, 24, 1548, 230, 194, 620, 516, 779, 111, 260, 156, 783, 522, 1570, 660, 60, 738, 526, 40, 791, 316, 506, 678, 252, 522, 140, 532, 60, 400, 228, 212, 803, 201, 534, 52, 72, 210, 1618, 1620, 540, 300, 542, 180, 87, 385, 36, 1636, 740, 546, 260, 276, 180, 48, 84, 252, 60, 92, 78, 30, 831, 36, 1666, 1668, 556, 357, 660, 84, 99, 820, 120, 84, 24, 562, 198, 1692, 28, 848, 566, 162, 780, 20, 284, 244, 812, 114, 588, 200, 570, 215, 574, 220, 260, 36, 144, 1732, 692, 96, 828, 1740, 246, 348, 1746, 260, 408, 146, 36, 150, 879, 586, 140, 88, 90, 420, 330, 588, 140, 74, 148, 204, 891, 24, 1786, 596, 198, 810, 716, 598, 48, 25, 50, 684, 276, 198, 362, 252, 220, 429, 424, 606, 911, 180, 84, 290, 305, 276, 732, 830, 612, 393, 144, 60, 923, 602, 154, 72, 156, 618, 780, 1860, 594, 372, 1866, 66, 935, 936, 500, 1876, 939, 90, 804, 84, 72, 472, 60, 90, 756, 135, 210, 1900, 860, 28, 1906, 902, 84, 239, 764, 630, 900, 56, 64, 60, 460, 214, 1930, 644, 84, 444, 276, 646, 924, 388, 290, 1948, 975, 30, 88, 306, 652, 468, 60, 260, 210, 890, 18, 1972, 780, 658, 1978, 282, 660, 44, 1986, 24, 180, 996, 36, 1996, 333, 308, 286, 200, 222, 420, 402, 60, 60, 336, 48, 322, 408, 540, 2026, 2028, 676, 954, 180, 48, 1019, 156, 678, 204, 11, 22, 876, 2052, 68, 440, 140, 228, 1031, 348, 156, 2068, 36, 230, 820, 330, 90, 1040, 2082, 276, 1043, 29, 40, 132, 836, 174, 2098, 190, 700, 420, 42, 36, 1055, 44, 276, 252, 324, 300, 480, 200, 708, 532, 2130, 234, 60, 1068, 110, 2140, 51, 60, 252, 102, 714, 1076, 172, 718, 56, 1080, 102, 72, 980, 24, 996, 260, 140, 465, 726, 242, 1044, 396, 1458, 990, 156, 56, 292, 2028, 244, 35, 734, 84, 1103, 1081, 330, 2212, 884, 246, 948, 2220, 36, 220, 520, 742, 528, 420, 148, 2236, 1119, 738, 2242, 224, 318, 516, 750, 750, 20, 180, 150, 72, 45, 60, 2266, 2268, 756, 568, 60, 330, 364, 190, 380, 76, 381, 36, 1092, 2292, 72, 1148, 990, 348, 483, 460, 384, 2308, 1155, 48, 924, 30, 772, 210, 1100, 20, 1068, 136, 36, 2332, 932, 180, 2338, 780, 70, 132, 782, 756, 47, 180, 52, 2356, 21, 786, 552, 140, 786, 561, 2370, 84, 900, 1188, 60, 476, 397, 156, 30, 2388, 796, 598, 956, 184, 1199, 1029, 198, 36, 1148, 90, 482, 126, 132, 1208, 580, 804, 1211, 240, 404, 1038, 120, 270, 972, 2436, 270, 305, 348, 324, 1223, 195, 126, 370, 980, 36, 2458, 1166, 820, 56, 2466, 822, 264, 618, 60, 2476, 396, 826, 1140, 420, 828, 1170, 1196, 276, 332, 1130, 168, 60, 1251, 332, 396, 96, 270, 537, 1004, 838, 380, 1260, 812, 100, 342, 210, 2530, 296, 156, 406, 2538, 330, 1271, 508, 282, 2548, 1275, 396, 36, 2556, 852, 588, 290, 36, 120, 183, 428, 410, 1020, 858, 2578, 308, 60, 460, 396, 862, 1295, 81, 172, 1092, 308, 408, 612, 260, 390, 1304, 372, 132, 1044, 1308, 144, 2620, 420, 300, 1260, 1190, 876, 1316, 40, 876, 84, 414, 110, 1012, 1323, 882, 120, 378, 348, 166, 2658, 886, 1331, 60, 42, 104, 445, 810, 1060, 2676, 414, 573, 2682, 356, 79, 224, 132, 2692, 420, 140, 2698, 36, 104, 540, 2706, 42, 1355, 1356, 180, 180, 1359, 906, 1164, 180, 900, 1364, 26, 182, 1092, 264, 410, 2740, 420, 60, 660, 916, 390, 1376, 252, 306, 55, 50, 102, 156, 461, 420, 648, 1334, 180, 1388, 132, 306, 110, 556, 464, 2788, 465, 126, 84, 2796, 930, 1400, 2802, 40, 600, 2756, 234, 336, 1124, 156, 2818, 60, 940, 140, 80, 220, 1332, 118, 108, 2836, 664, 946, 2842, 284, 36, 180, 2850, 948, 228, 102, 68, 2860, 204, 380, 1380, 90, 420, 312, 1100, 204, 1439, 462, 310, 144, 1443, 954, 1218, 1310, 96, 1448, 444, 966, 1451, 492, 72, 2908, 140, 194, 260, 972, 138, 77, 468, 60, 1463, 700, 488, 1254, 1172, 110, 2938, 344, 36, 180, 420, 982, 1356, 492, 196, 2956, 1340, 138, 2962, 148, 154, 371, 110, 990, 120, 228, 30, 270, 468, 396, 1428, 420, 332, 180, 1196, 108, 1499, 1500, 60, 100, 240, 232, 3010, 1430, 132, 129, 3018, 468, 1511, 220, 504, 348, 72, 42, 1212, 3036, 92, 1520, 712, 84, 460, 762, 252, 70, 276, 1018, 198, 204, 340, 612, 3066, 30, 1476, 219, 20, 360, 1539, 156, 3082, 308, 294, 772, 70, 1030, 1236, 162, 258, 1326, 1484, 396, 1428, 444, 120, 470, 132, 1038, 1559, 156, 1038, 2500, 1508, 444, 100, 24, 180, 784, 126, 348, 672, 72, 262, 1518, 748, 350, 180, 60, 324, 252, 1054, 420, 1583, 1584, 30, 1494, 140, 264, 680, 1060, 1060, 84, 3186, 1062, 55, 255, 420, 1518, 228, 240, 3202, 64, 356, 1604, 468, 72, 428, 804, 252, 644, 1460, 140, 1380, 1076, 1074, 780, 1292, 492, 780, 231, 506, 580, 760, 342, 650, 3252, 60, 407, 1086, 1086, 300, 652, 990, 1398, 545, 1090, 260, 28, 364, 96, 462, 36, 1548, 660, 274, 396, 1316, 156, 3298, 660, 366, 660, 3306, 58, 210, 828, 24, 530, 1659, 540, 3322, 180, 1108, 1664, 222, 100, 308, 805, 156, 48, 557, 148, 3346, 392, 1116, 717, 60, 372, 1679, 168, 522, 48, 36, 1122, 3370, 1124, 900, 510, 180, 462, 792, 676, 564, 484, 113, 84, 48, 546, 510, 1602, 820, 452, 1703, 243, 378, 3412, 44, 264, 1572, 310, 162, 340, 1628, 126, 207, 1716, 76, 1470, 180, 180, 780, 156, 1146, 431, 168, 1150, 460, 576, 288, 3460, 577, 60, 3466, 3468, 132, 165, 1380, 180, 105, 3422, 378, 40, 1580, 166, 3490, 498, 116, 804, 3498, 1164, 140, 700, 498, 1540, 1755, 1170, 36, 3516, 264, 753, 540, 460, 1763, 882, 530, 3532, 300, 1170, 3538, 236, 236, 708, 3546, 156, 1716, 360, 156, 3556, 1779, 1186, 1524, 220, 140, 574, 3570, 132, 60, 63, 298, 3580, 1791, 476, 840, 144, 18, 1796, 1436, 180, 1740, 276, 300, 204, 601, 600, 572, 3612, 24, 1808, 690, 280, 1811, 700, 60, 1710, 605, 516, 484, 3636, 1212, 30, 3642, 972, 780, 220, 152, 420, 56, 572, 3658, 522, 180, 244, 288, 1222, 1835, 918, 420, 3676, 564, 204, 28, 660, 1228, 120, 3690, 1230, 492, 1848, 612, 3700, 759, 36, 210, 3708, 1236, 897, 1484, 174, 1859, 3660, 72, 740, 1863, 140, 60, 3732, 492, 900, 534, 28, 1764, 636, 156, 1782, 110, 414, 1500, 408, 534, 188, 1820, 100, 1883, 1884, 1254, 1470, 60, 1258, 3778, 198, 48, 756, 540, 420, 296, 1896, 220, 3796, 1820, 180, 3802, 380, 1242, 876, 612, 20, 36, 1730, 198, 764, 637, 120, 154, 546, 1276, 958, 348, 1278, 1740, 913, 60, 384, 1923, 1282, 3850, 3852, 16, 252, 904, 180, 1931, 772, 322, 468, 273, 1290, 100, 3876, 258, 388, 440, 36, 1716, 648, 648, 152, 180, 72, 1668, 1886, 1300, 140, 3906, 1302, 1955, 84, 252, 3916, 1959, 1306, 3922, 260, 120, 1964, 3930, 198, 1572, 35, 300, 1686, 219, 524, 3946, 1790, 438, 1914, 84, 1318, 1908, 232, 60, 60, 1983, 378, 1710, 476, 260, 240, 1892, 442, 852, 796, 1326, 3988, 204, 1210, 184, 114, 70]\n"
     ]
    }
   ],
   "source": [
    "print(per)"
   ]
  },
  {
   "cell_type": "code",
   "execution_count": 370,
   "metadata": {},
   "outputs": [
    {
     "data": {
      "text/plain": [
       "'/Users/natestemen/Research'"
      ]
     },
     "execution_count": 370,
     "metadata": {},
     "output_type": "execute_result"
    }
   ],
   "source": [
    "pwd"
   ]
  },
  {
   "cell_type": "code",
   "execution_count": 371,
   "metadata": {},
   "outputs": [
    {
     "name": "stdout",
     "output_type": "stream",
     "text": [
      "OverleafInterview.ipynb  Q-Balls.ipynb            poker_chips.ipynb\r\n",
      "Q-Balls-Copy1.ipynb      SatNonLin.ipynb\r\n"
     ]
    }
   ],
   "source": [
    "ls"
   ]
  },
  {
   "cell_type": "code",
   "execution_count": null,
   "metadata": {
    "collapsed": true
   },
   "outputs": [],
   "source": []
  }
 ],
 "metadata": {
  "celltoolbar": "Raw Cell Format",
  "kernelspec": {
   "display_name": "Python 3",
   "language": "python",
   "name": "python3"
  },
  "language_info": {
   "codemirror_mode": {
    "name": "ipython",
    "version": 3
   },
   "file_extension": ".py",
   "mimetype": "text/x-python",
   "name": "python",
   "nbconvert_exporter": "python",
   "pygments_lexer": "ipython3",
   "version": "3.6.1"
  }
 },
 "nbformat": 4,
 "nbformat_minor": 2
}
